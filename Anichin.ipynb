{
  "nbformat": 4,
  "nbformat_minor": 0,
  "metadata": {
    "colab": {
      "private_outputs": true,
      "provenance": []
    },
    "kernelspec": {
      "name": "python3",
      "display_name": "Python 3"
    },
    "language_info": {
      "name": "python"
    }
  },
  "cells": [
    {
      "cell_type": "code",
      "execution_count": null,
      "metadata": {
        "id": "l0IjHCqQAi5Q"
      },
      "outputs": [],
      "source": [
        "!pip install requests\n",
        "!pip install selenium\n",
        "!apt-get update # to update ubuntu to correctly run apt install\n",
        "!apt install chromium-chromedriver\n",
        "!cp /usr/lib/chromium-browser/chromedriver /usr/bin"
      ]
    },
    {
      "cell_type": "code",
      "source": [
        "import sys\n",
        "sys.path.insert(0,'/usr/lib/chromium-browser/chromedriver')"
      ],
      "metadata": {
        "id": "wt5AJMVkfIDw"
      },
      "execution_count": null,
      "outputs": []
    },
    {
      "cell_type": "code",
      "source": [
        "import time\n",
        "from lxml import html\n",
        "from selenium import webdriver\n",
        "chrome_options = webdriver.ChromeOptions()\n",
        "chrome_options.add_argument('--headless')\n",
        "chrome_options.add_argument('--no-sandbox')\n",
        "chrome_options.add_argument('--disable-dev-shm-usage')\n",
        "wd = webdriver.Chrome('chromedriver',options=chrome_options)\n",
        "wd.get(\"https://go.nyawang.com/mygW/QCRoZW5kcmFicmlkZ2UkQA==\")\n",
        "time.sleep(9)\n",
        "tree = html.fromstring(wd.page_source)\n",
        "link = tree.xpath(\"/html/body/div[1]/div/div/div/div[4]/a/@href\")[0]\n",
        "print(link)"
      ],
      "metadata": {
        "id": "Kw9HNxWaW7Wc"
      },
      "execution_count": null,
      "outputs": []
    }
  ]
}